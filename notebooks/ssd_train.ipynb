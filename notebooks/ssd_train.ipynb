{
  "nbformat": 4,
  "nbformat_minor": 0,
  "metadata": {
    "colab": {
      "name": "SSD_train.ipynb",
      "provenance": [],
      "collapsed_sections": [],
      "authorship_tag": "ABX9TyO2mZp19z+zw+6ty7GLcGVG",
      "include_colab_link": true
    },
    "kernelspec": {
      "name": "python3",
      "display_name": "Python 3"
    },
    "language_info": {
      "name": "python"
    },
    "accelerator": "GPU",
    "gpuClass": "standard"
  },
  "cells": [
    {
      "cell_type": "markdown",
      "metadata": {
        "id": "view-in-github",
        "colab_type": "text"
      },
      "source": [
        "<a href=\"https://colab.research.google.com/github/you1025/SSD/blob/main/notebooks/ssd_train.ipynb\" target=\"_parent\"><img src=\"https://colab.research.google.com/assets/colab-badge.svg\" alt=\"Open In Colab\"/></a>"
      ]
    },
    {
      "cell_type": "markdown",
      "source": [
        "GPU の確認"
      ],
      "metadata": {
        "id": "vg_CEUvMj5sp"
      }
    },
    {
      "cell_type": "code",
      "source": [
        "!nvidia-smi"
      ],
      "metadata": {
        "colab": {
          "base_uri": "https://localhost:8080/"
        },
        "id": "sFfr7bxUjhsr",
        "outputId": "8376c5ef-19ac-430e-8390-0b9d124ac863"
      },
      "execution_count": 1,
      "outputs": [
        {
          "output_type": "stream",
          "name": "stdout",
          "text": [
            "Thu Jul  7 07:48:23 2022       \n",
            "+-----------------------------------------------------------------------------+\n",
            "| NVIDIA-SMI 460.32.03    Driver Version: 460.32.03    CUDA Version: 11.2     |\n",
            "|-------------------------------+----------------------+----------------------+\n",
            "| GPU  Name        Persistence-M| Bus-Id        Disp.A | Volatile Uncorr. ECC |\n",
            "| Fan  Temp  Perf  Pwr:Usage/Cap|         Memory-Usage | GPU-Util  Compute M. |\n",
            "|                               |                      |               MIG M. |\n",
            "|===============================+======================+======================|\n",
            "|   0  Tesla P100-PCIE...  Off  | 00000000:00:04.0 Off |                    0 |\n",
            "| N/A   36C    P0    27W / 250W |      0MiB / 16280MiB |      0%      Default |\n",
            "|                               |                      |                  N/A |\n",
            "+-------------------------------+----------------------+----------------------+\n",
            "                                                                               \n",
            "+-----------------------------------------------------------------------------+\n",
            "| Processes:                                                                  |\n",
            "|  GPU   GI   CI        PID   Type   Process name                  GPU Memory |\n",
            "|        ID   ID                                                   Usage      |\n",
            "|=============================================================================|\n",
            "|  No running processes found                                                 |\n",
            "+-----------------------------------------------------------------------------+\n"
          ]
        }
      ]
    },
    {
      "cell_type": "markdown",
      "source": [
        "Google Drive の接続"
      ],
      "metadata": {
        "id": "3V-7wZ_P7Rv4"
      }
    },
    {
      "cell_type": "code",
      "source": [
        "from google.colab import drive\n",
        "drive.mount(\"/content/drive\")"
      ],
      "metadata": {
        "colab": {
          "base_uri": "https://localhost:8080/"
        },
        "id": "091iC_az7SDI",
        "outputId": "a0aabb43-a701-45e4-95cf-4848749d951d"
      },
      "execution_count": 2,
      "outputs": [
        {
          "output_type": "stream",
          "name": "stdout",
          "text": [
            "Mounted at /content/drive\n"
          ]
        }
      ]
    },
    {
      "cell_type": "markdown",
      "source": [
        "ソースコードのダウンロード\n",
        "\n",
        "**モデルとログの出力先を google drive に変更する事！**"
      ],
      "metadata": {
        "id": "8fFvgRrZahrl"
      }
    },
    {
      "cell_type": "code",
      "source": [
        "!git clone https://github.com/you1025/SSD.git"
      ],
      "metadata": {
        "colab": {
          "base_uri": "https://localhost:8080/"
        },
        "id": "Y7l3xGBcaRTv",
        "outputId": "818b4dc2-8f8a-4e62-e8d2-823ed6fae8f4"
      },
      "execution_count": 3,
      "outputs": [
        {
          "output_type": "stream",
          "name": "stdout",
          "text": [
            "Cloning into 'SSD'...\n",
            "remote: Enumerating objects: 185, done.\u001b[K\n",
            "remote: Counting objects: 100% (185/185), done.\u001b[K\n",
            "remote: Compressing objects: 100% (130/130), done.\u001b[K\n",
            "remote: Total 185 (delta 105), reused 122 (delta 47), pack-reused 0\u001b[K\n",
            "Receiving objects: 100% (185/185), 132.09 KiB | 1.06 MiB/s, done.\n",
            "Resolving deltas: 100% (105/105), done.\n"
          ]
        }
      ]
    },
    {
      "cell_type": "markdown",
      "source": [
        "データの取得"
      ],
      "metadata": {
        "id": "y3Sdwm93ZY6N"
      }
    },
    {
      "cell_type": "code",
      "execution_count": null,
      "metadata": {
        "colab": {
          "base_uri": "https://localhost:8080/"
        },
        "id": "Dun5CEjCXuNA",
        "outputId": "6c153a80-c59d-4806-9ac3-221dc73b81fb"
      },
      "outputs": [
        {
          "output_type": "stream",
          "name": "stdout",
          "text": [
            "Copying gs://shimajiro-ssd/VOCtrainval_11-May-2012.tar...\n",
            "- [1 files][  1.9 GiB/  1.9 GiB]   51.4 MiB/s                                   \n",
            "Operation completed over 1 objects/1.9 GiB.                                      \n",
            "Copying gs://shimajiro-ssd/vgg16_reducedfc.pth...\n",
            "- [1 files][ 78.1 MiB/ 78.1 MiB]                                                \n",
            "Operation completed over 1 objects/78.1 MiB.                                     \n"
          ]
        }
      ],
      "source": [
        "# 認証\n",
        "from google.colab import auth\n",
        "auth.authenticate_user()\n",
        "\n",
        "# VOC データを取得\n",
        "!gsutil cp gs://shimajiro-ssd/VOCtrainval_11-May-2012.tar .\n",
        "!tar xf VOCtrainval_11-May-2012.tar -C SSD/data/\n",
        "\n",
        "# 学習済み VGG モデルを取得\n",
        "!gsutil cp gs://shimajiro-ssd/vgg16_reducedfc.pth SSD/weights/vgg/"
      ]
    },
    {
      "cell_type": "markdown",
      "source": [
        "学習の実行\n",
        "\n",
        "確認: **モデルとログの出力先を google drive に変更する事！**"
      ],
      "metadata": {
        "id": "XpF3lt_Lp7k_"
      }
    },
    {
      "cell_type": "code",
      "source": [
        "%cd SSD\n",
        "%run ssd_train.py"
      ],
      "metadata": {
        "colab": {
          "base_uri": "https://localhost:8080/"
        },
        "id": "imvG000BTUcI",
        "outputId": "43d4f66f-47a1-48d1-c8a7-888c613651c9"
      },
      "execution_count": null,
      "outputs": [
        {
          "output_type": "stream",
          "name": "stdout",
          "text": [
            "/content/SSD\n",
            "device: cuda:0\n",
            "[SSD] 2022-07-02T06:50:01(UTC) INFO: epoch: 1/10\n",
            "[SSD] 2022-07-02T06:50:14(UTC) INFO: iteration:    10 - loss: 15.444, 10 iter: 12.7 sec.\n",
            "[SSD] 2022-07-02T06:50:21(UTC) INFO: iteration:    20 - loss: 13.059, 10 iter:  7.0 sec.\n",
            "[SSD] 2022-07-02T06:50:29(UTC) INFO: iteration:    30 - loss: 10.035, 10 iter:  7.2 sec.\n",
            "[SSD] 2022-07-02T06:50:36(UTC) INFO: iteration:    40 - loss: 10.133, 10 iter:  7.3 sec.\n",
            "[SSD] 2022-07-02T06:50:44(UTC) INFO: iteration:    50 - loss:  9.436, 10 iter:  7.5 sec.\n",
            "[SSD] 2022-07-02T06:50:52(UTC) INFO: iteration:    60 - loss:  8.852, 10 iter:  7.3 sec.\n",
            "[SSD] 2022-07-02T06:50:59(UTC) INFO: iteration:    70 - loss:  8.560, 10 iter:  7.3 sec.\n",
            "[SSD] 2022-07-02T06:51:06(UTC) INFO: iteration:    80 - loss:  9.133, 10 iter:  6.9 sec.\n",
            "[SSD] 2022-07-02T06:51:14(UTC) INFO: iteration:    90 - loss:  8.589, 10 iter:  7.6 sec.\n",
            "[SSD] 2022-07-02T06:51:22(UTC) INFO: iteration:   100 - loss:  8.426, 10 iter:  7.5 sec.\n",
            "[SSD] 2022-07-02T06:51:30(UTC) INFO: iteration:   110 - loss:  8.365, 10 iter:  7.2 sec.\n",
            "[SSD] 2022-07-02T06:51:37(UTC) INFO: iteration:   120 - loss:  7.902, 10 iter:  7.4 sec.\n",
            "[SSD] 2022-07-02T06:51:45(UTC) INFO: iteration:   130 - loss:  8.927, 10 iter:  7.3 sec.\n",
            "[SSD] 2022-07-02T06:51:52(UTC) INFO: iteration:   140 - loss:  8.644, 10 iter:  7.0 sec.\n",
            "[SSD] 2022-07-02T06:52:00(UTC) INFO: iteration:   150 - loss:  8.009, 10 iter:  6.9 sec.\n",
            "[SSD] 2022-07-02T06:52:07(UTC) INFO: iteration:   160 - loss:  8.753, 10 iter:  7.1 sec.\n",
            "[SSD] 2022-07-02T06:52:15(UTC) INFO: iteration:   170 - loss:  8.567, 10 iter:  7.4 sec.\n",
            "[SSD] 2022-07-02T06:52:25(UTC) INFO: epoch: 1 - train_loss: 1765.969\n",
            "[SSD] 2022-07-02T06:52:25(UTC) INFO: epoch: 1 - 144.6 sec in epoch.\n",
            "[SSD] 2022-07-02T06:52:25(UTC) INFO: epoch: 2/10\n",
            "[SSD] 2022-07-02T06:52:27(UTC) INFO: iteration:   180 - loss:  8.512, 10 iter:  1.6 sec.\n",
            "[SSD] 2022-07-02T06:52:35(UTC) INFO: iteration:   190 - loss:  9.373, 10 iter:  7.6 sec.\n",
            "[SSD] 2022-07-02T06:52:44(UTC) INFO: iteration:   200 - loss:  7.802, 10 iter:  8.3 sec.\n",
            "[SSD] 2022-07-02T06:52:52(UTC) INFO: iteration:   210 - loss:  7.743, 10 iter:  7.8 sec.\n",
            "[SSD] 2022-07-02T06:52:59(UTC) INFO: iteration:   220 - loss:  7.868, 10 iter:  7.3 sec.\n",
            "[SSD] 2022-07-02T06:53:07(UTC) INFO: iteration:   230 - loss:  7.563, 10 iter:  6.9 sec.\n",
            "[SSD] 2022-07-02T06:53:14(UTC) INFO: iteration:   240 - loss:  8.614, 10 iter:  6.7 sec.\n",
            "[SSD] 2022-07-02T06:53:21(UTC) INFO: iteration:   250 - loss:  8.417, 10 iter:  7.4 sec.\n",
            "[SSD] 2022-07-02T06:53:29(UTC) INFO: iteration:   260 - loss:  8.761, 10 iter:  7.2 sec.\n",
            "[SSD] 2022-07-02T06:53:36(UTC) INFO: iteration:   270 - loss:  7.722, 10 iter:  7.1 sec.\n",
            "[SSD] 2022-07-02T06:53:43(UTC) INFO: iteration:   280 - loss:  8.776, 10 iter:  6.8 sec.\n",
            "[SSD] 2022-07-02T06:53:52(UTC) INFO: iteration:   290 - loss:  8.448, 10 iter:  7.8 sec.\n",
            "[SSD] 2022-07-02T06:53:59(UTC) INFO: iteration:   300 - loss:  8.010, 10 iter:  7.0 sec.\n",
            "[SSD] 2022-07-02T06:54:06(UTC) INFO: iteration:   310 - loss:  9.354, 10 iter:  7.0 sec.\n",
            "[SSD] 2022-07-02T06:54:14(UTC) INFO: iteration:   320 - loss:  9.387, 10 iter:  7.1 sec.\n",
            "[SSD] 2022-07-02T06:54:21(UTC) INFO: iteration:   330 - loss:  9.022, 10 iter:  7.5 sec.\n",
            "[SSD] 2022-07-02T06:54:29(UTC) INFO: iteration:   340 - loss:  8.780, 10 iter:  7.4 sec.\n",
            "[SSD] 2022-07-02T06:54:37(UTC) INFO: iteration:   350 - loss:  7.905, 10 iter:  7.4 sec.\n",
            "[SSD] 2022-07-02T06:54:42(UTC) INFO: epoch: 2 - train_loss: 1528.698\n",
            "[SSD] 2022-07-02T06:54:42(UTC) INFO: epoch: 2 - 136.7 sec in epoch.\n",
            "[SSD] 2022-07-02T06:54:42(UTC) INFO: epoch: 3/10\n",
            "[SSD] 2022-07-02T06:54:44(UTC) INFO: iteration:   360 - loss:  7.708, 10 iter:  2.3 sec.\n",
            "[SSD] 2022-07-02T06:54:52(UTC) INFO: iteration:   370 - loss:  8.093, 10 iter:  7.4 sec.\n",
            "[SSD] 2022-07-02T06:55:00(UTC) INFO: iteration:   380 - loss:  7.898, 10 iter:  7.2 sec.\n",
            "[SSD] 2022-07-02T06:55:07(UTC) INFO: iteration:   390 - loss:  8.257, 10 iter:  7.3 sec.\n",
            "[SSD] 2022-07-02T06:55:15(UTC) INFO: iteration:   400 - loss:  9.832, 10 iter:  7.3 sec.\n",
            "[SSD] 2022-07-02T06:55:23(UTC) INFO: iteration:   410 - loss:  9.259, 10 iter:  7.6 sec.\n",
            "[SSD] 2022-07-02T06:55:31(UTC) INFO: iteration:   420 - loss:  7.326, 10 iter:  7.4 sec.\n",
            "[SSD] 2022-07-02T06:55:38(UTC) INFO: iteration:   430 - loss:  7.340, 10 iter:  7.1 sec.\n",
            "[SSD] 2022-07-02T06:55:45(UTC) INFO: iteration:   440 - loss:  6.801, 10 iter:  7.1 sec.\n",
            "[SSD] 2022-07-02T06:55:53(UTC) INFO: iteration:   450 - loss:  7.339, 10 iter:  7.4 sec.\n",
            "[SSD] 2022-07-02T06:56:00(UTC) INFO: iteration:   460 - loss:  7.279, 10 iter:  6.9 sec.\n",
            "[SSD] 2022-07-02T06:56:08(UTC) INFO: iteration:   470 - loss:  7.433, 10 iter:  7.1 sec.\n",
            "[SSD] 2022-07-02T06:56:16(UTC) INFO: iteration:   480 - loss:  6.999, 10 iter:  7.5 sec.\n",
            "[SSD] 2022-07-02T06:56:23(UTC) INFO: iteration:   490 - loss:  7.560, 10 iter:  6.9 sec.\n",
            "[SSD] 2022-07-02T06:56:31(UTC) INFO: iteration:   500 - loss:  7.564, 10 iter:  7.4 sec.\n",
            "[SSD] 2022-07-02T06:56:38(UTC) INFO: iteration:   510 - loss:  7.468, 10 iter:  7.3 sec.\n",
            "[SSD] 2022-07-02T06:56:46(UTC) INFO: iteration:   520 - loss:  7.020, 10 iter:  7.7 sec.\n",
            "[SSD] 2022-07-02T06:56:54(UTC) INFO: iteration:   530 - loss:  7.319, 10 iter:  7.4 sec.\n",
            "[SSD] 2022-07-02T06:56:59(UTC) INFO: epoch: 3 - train_loss: 1373.013\n",
            "[SSD] 2022-07-02T06:56:59(UTC) INFO: epoch: 3 - 136.9 sec in epoch.\n",
            "[SSD] 2022-07-02T06:56:59(UTC) INFO: epoch: 4/10\n",
            "[SSD] 2022-07-02T06:57:02(UTC) INFO: iteration:   540 - loss:  8.187, 10 iter:  3.1 sec.\n",
            "[SSD] 2022-07-02T06:57:10(UTC) INFO: iteration:   550 - loss:  7.038, 10 iter:  7.1 sec.\n",
            "[SSD] 2022-07-02T06:57:17(UTC) INFO: iteration:   560 - loss:  7.005, 10 iter:  7.5 sec.\n",
            "[SSD] 2022-07-02T06:57:25(UTC) INFO: iteration:   570 - loss:  7.195, 10 iter:  7.6 sec.\n",
            "[SSD] 2022-07-02T06:57:34(UTC) INFO: iteration:   580 - loss:  7.108, 10 iter:  8.7 sec.\n",
            "[SSD] 2022-07-02T06:57:41(UTC) INFO: iteration:   590 - loss:  6.993, 10 iter:  6.9 sec.\n",
            "[SSD] 2022-07-02T06:57:49(UTC) INFO: iteration:   600 - loss:  6.918, 10 iter:  7.1 sec.\n",
            "[SSD] 2022-07-02T06:57:56(UTC) INFO: iteration:   610 - loss:  6.591, 10 iter:  7.1 sec.\n",
            "[SSD] 2022-07-02T06:58:04(UTC) INFO: iteration:   620 - loss:  6.786, 10 iter:  7.2 sec.\n",
            "[SSD] 2022-07-02T06:58:11(UTC) INFO: iteration:   630 - loss:  7.537, 10 iter:  7.3 sec.\n",
            "[SSD] 2022-07-02T06:58:19(UTC) INFO: iteration:   640 - loss:  8.093, 10 iter:  7.0 sec.\n",
            "[SSD] 2022-07-02T06:58:27(UTC) INFO: iteration:   650 - loss:  7.051, 10 iter:  7.7 sec.\n",
            "[SSD] 2022-07-02T06:58:34(UTC) INFO: iteration:   660 - loss:  7.818, 10 iter:  7.1 sec.\n",
            "[SSD] 2022-07-02T06:58:41(UTC) INFO: iteration:   670 - loss:  7.656, 10 iter:  7.0 sec.\n",
            "[SSD] 2022-07-02T06:58:49(UTC) INFO: iteration:   680 - loss:  6.921, 10 iter:  6.9 sec.\n",
            "[SSD] 2022-07-02T06:58:56(UTC) INFO: iteration:   690 - loss:  6.861, 10 iter:  6.9 sec.\n",
            "[SSD] 2022-07-02T06:59:03(UTC) INFO: iteration:   700 - loss:  6.766, 10 iter:  7.3 sec.\n",
            "[SSD] 2022-07-02T06:59:11(UTC) INFO: iteration:   710 - loss:  7.079, 10 iter:  7.3 sec.\n",
            "[SSD] 2022-07-02T06:59:15(UTC) INFO: epoch: 4 - train_loss: 1284.426\n",
            "[SSD] 2022-07-02T06:59:15(UTC) INFO: epoch: 4 - 136.6 sec in epoch.\n",
            "[SSD] 2022-07-02T06:59:15(UTC) INFO: epoch: 5/10\n",
            "[SSD] 2022-07-02T06:59:19(UTC) INFO: iteration:   720 - loss:  6.733, 10 iter:  3.6 sec.\n",
            "[SSD] 2022-07-02T06:59:27(UTC) INFO: iteration:   730 - loss:  7.427, 10 iter:  7.3 sec.\n",
            "[SSD] 2022-07-02T06:59:35(UTC) INFO: iteration:   740 - loss:  6.322, 10 iter:  7.4 sec.\n",
            "[SSD] 2022-07-02T06:59:42(UTC) INFO: iteration:   750 - loss:  7.199, 10 iter:  7.2 sec.\n",
            "[SSD] 2022-07-02T06:59:50(UTC) INFO: iteration:   760 - loss:  6.936, 10 iter:  7.7 sec.\n",
            "[SSD] 2022-07-02T06:59:58(UTC) INFO: iteration:   770 - loss:  6.626, 10 iter:  7.2 sec.\n",
            "[SSD] 2022-07-02T07:00:05(UTC) INFO: iteration:   780 - loss:  6.718, 10 iter:  7.3 sec.\n",
            "[SSD] 2022-07-02T07:00:13(UTC) INFO: iteration:   790 - loss:  7.075, 10 iter:  6.9 sec.\n",
            "[SSD] 2022-07-02T07:00:21(UTC) INFO: iteration:   800 - loss:  7.673, 10 iter:  8.0 sec.\n",
            "[SSD] 2022-07-02T07:00:28(UTC) INFO: iteration:   810 - loss:  6.725, 10 iter:  7.3 sec.\n",
            "[SSD] 2022-07-02T07:00:36(UTC) INFO: iteration:   820 - loss:  6.785, 10 iter:  7.3 sec.\n",
            "[SSD] 2022-07-02T07:00:44(UTC) INFO: iteration:   830 - loss:  5.970, 10 iter:  7.8 sec.\n",
            "[SSD] 2022-07-02T07:00:52(UTC) INFO: iteration:   840 - loss:  6.726, 10 iter:  7.2 sec.\n",
            "[SSD] 2022-07-02T07:00:59(UTC) INFO: iteration:   850 - loss:  6.870, 10 iter:  6.8 sec.\n",
            "[SSD] 2022-07-02T07:01:06(UTC) INFO: iteration:   860 - loss:  6.531, 10 iter:  7.0 sec.\n",
            "[SSD] 2022-07-02T07:01:14(UTC) INFO: iteration:   870 - loss:  6.700, 10 iter:  7.8 sec.\n",
            "[SSD] 2022-07-02T07:01:22(UTC) INFO: iteration:   880 - loss:  6.480, 10 iter:  7.6 sec.\n",
            "[SSD] 2022-07-02T07:01:30(UTC) INFO: iteration:   890 - loss:  6.283, 10 iter:  7.4 sec.\n",
            "[SSD] 2022-07-02T07:01:33(UTC) INFO: epoch: 5 - train_loss: 1209.989\n",
            "[SSD] 2022-07-02T07:01:33(UTC) INFO: epoch: 5 - 138.0 sec in epoch.\n",
            "[SSD] 2022-07-02T07:01:33(UTC) INFO: epoch: 6/10\n",
            "[SSD] 2022-07-02T07:01:38(UTC) INFO: iteration:   900 - loss:  5.909, 10 iter:  4.6 sec.\n",
            "[SSD] 2022-07-02T07:01:46(UTC) INFO: iteration:   910 - loss:  6.676, 10 iter:  7.4 sec.\n",
            "[SSD] 2022-07-02T07:01:54(UTC) INFO: iteration:   920 - loss:  6.334, 10 iter:  7.3 sec.\n",
            "[SSD] 2022-07-02T07:02:01(UTC) INFO: iteration:   930 - loss:  6.558, 10 iter:  7.1 sec.\n",
            "[SSD] 2022-07-02T07:02:09(UTC) INFO: iteration:   940 - loss:  6.339, 10 iter:  7.3 sec.\n",
            "[SSD] 2022-07-02T07:02:17(UTC) INFO: iteration:   950 - loss:  6.941, 10 iter:  8.0 sec.\n",
            "[SSD] 2022-07-02T07:02:25(UTC) INFO: iteration:   960 - loss:  6.704, 10 iter:  7.4 sec.\n",
            "[SSD] 2022-07-02T07:02:32(UTC) INFO: iteration:   970 - loss:  6.278, 10 iter:  7.0 sec.\n",
            "[SSD] 2022-07-02T07:02:40(UTC) INFO: iteration:   980 - loss:  6.823, 10 iter:  7.1 sec.\n",
            "[SSD] 2022-07-02T07:02:48(UTC) INFO: iteration:   990 - loss:  6.069, 10 iter:  7.6 sec.\n",
            "[SSD] 2022-07-02T07:02:55(UTC) INFO: iteration:  1000 - loss:  6.428, 10 iter:  7.3 sec.\n",
            "[SSD] 2022-07-02T07:03:04(UTC) INFO: iteration:  1010 - loss:  6.275, 10 iter:  8.0 sec.\n",
            "[SSD] 2022-07-02T07:03:11(UTC) INFO: iteration:  1020 - loss:  6.605, 10 iter:  7.4 sec.\n",
            "[SSD] 2022-07-02T07:03:19(UTC) INFO: iteration:  1030 - loss:  6.611, 10 iter:  7.5 sec.\n",
            "[SSD] 2022-07-02T07:03:27(UTC) INFO: iteration:  1040 - loss:  6.433, 10 iter:  7.2 sec.\n",
            "[SSD] 2022-07-02T07:03:34(UTC) INFO: iteration:  1050 - loss:  6.827, 10 iter:  7.4 sec.\n",
            "[SSD] 2022-07-02T07:03:42(UTC) INFO: iteration:  1060 - loss:  6.249, 10 iter:  6.9 sec.\n",
            "[SSD] 2022-07-02T07:03:49(UTC) INFO: iteration:  1070 - loss:  6.462, 10 iter:  7.0 sec.\n",
            "[SSD] 2022-07-02T07:03:52(UTC) INFO: epoch: 6 - train_loss: 1162.730\n",
            "[SSD] 2022-07-02T07:03:52(UTC) INFO: epoch: 6 - 138.0 sec in epoch.\n",
            "[SSD] 2022-07-02T07:03:52(UTC) INFO: epoch: 7/10\n",
            "[SSD] 2022-07-02T07:03:57(UTC) INFO: iteration:  1080 - loss:  6.168, 10 iter:  5.6 sec.\n",
            "[SSD] 2022-07-02T07:04:05(UTC) INFO: iteration:  1090 - loss:  5.827, 10 iter:  7.1 sec.\n",
            "[SSD] 2022-07-02T07:04:12(UTC) INFO: iteration:  1100 - loss:  6.279, 10 iter:  7.2 sec.\n",
            "[SSD] 2022-07-02T07:04:20(UTC) INFO: iteration:  1110 - loss:  6.567, 10 iter:  7.2 sec.\n",
            "[SSD] 2022-07-02T07:04:28(UTC) INFO: iteration:  1120 - loss:  6.568, 10 iter:  7.3 sec.\n",
            "[SSD] 2022-07-02T07:04:35(UTC) INFO: iteration:  1130 - loss:  6.082, 10 iter:  7.5 sec.\n",
            "[SSD] 2022-07-02T07:04:43(UTC) INFO: iteration:  1140 - loss:  6.042, 10 iter:  7.6 sec.\n",
            "[SSD] 2022-07-02T07:04:51(UTC) INFO: iteration:  1150 - loss:  6.172, 10 iter:  7.4 sec.\n",
            "[SSD] 2022-07-02T07:04:59(UTC) INFO: iteration:  1160 - loss:  6.141, 10 iter:  7.8 sec.\n",
            "[SSD] 2022-07-02T07:05:07(UTC) INFO: iteration:  1170 - loss:  6.222, 10 iter:  7.3 sec.\n",
            "[SSD] 2022-07-02T07:05:14(UTC) INFO: iteration:  1180 - loss:  7.096, 10 iter:  7.2 sec.\n",
            "[SSD] 2022-07-02T07:05:22(UTC) INFO: iteration:  1190 - loss:  6.101, 10 iter:  7.1 sec.\n",
            "[SSD] 2022-07-02T07:05:30(UTC) INFO: iteration:  1200 - loss:  5.677, 10 iter:  7.5 sec.\n",
            "[SSD] 2022-07-02T07:05:37(UTC) INFO: iteration:  1210 - loss:  5.941, 10 iter:  7.1 sec.\n",
            "[SSD] 2022-07-02T07:05:45(UTC) INFO: iteration:  1220 - loss:  6.485, 10 iter:  7.4 sec.\n",
            "[SSD] 2022-07-02T07:05:52(UTC) INFO: iteration:  1230 - loss:  6.548, 10 iter:  7.3 sec.\n",
            "[SSD] 2022-07-02T07:06:00(UTC) INFO: iteration:  1240 - loss:  5.890, 10 iter:  7.5 sec.\n",
            "[SSD] 2022-07-02T07:06:07(UTC) INFO: iteration:  1250 - loss:  6.045, 10 iter:  6.9 sec.\n",
            "[SSD] 2022-07-02T07:06:09(UTC) INFO: epoch: 7 - train_loss: 1119.422\n",
            "[SSD] 2022-07-02T07:06:09(UTC) INFO: epoch: 7 - 137.7 sec in epoch.\n",
            "[SSD] 2022-07-02T07:06:09(UTC) INFO: epoch: 8/10\n",
            "[SSD] 2022-07-02T07:06:16(UTC) INFO: iteration:  1260 - loss:  6.661, 10 iter:  6.0 sec.\n",
            "[SSD] 2022-07-02T07:06:23(UTC) INFO: iteration:  1270 - loss:  6.048, 10 iter:  7.6 sec.\n",
            "[SSD] 2022-07-02T07:06:31(UTC) INFO: iteration:  1280 - loss:  6.119, 10 iter:  7.1 sec.\n",
            "[SSD] 2022-07-02T07:06:39(UTC) INFO: iteration:  1290 - loss:  6.104, 10 iter:  7.4 sec.\n",
            "[SSD] 2022-07-02T07:06:46(UTC) INFO: iteration:  1300 - loss:  5.071, 10 iter:  7.0 sec.\n",
            "[SSD] 2022-07-02T07:06:53(UTC) INFO: iteration:  1310 - loss:  5.537, 10 iter:  7.1 sec.\n",
            "[SSD] 2022-07-02T07:07:01(UTC) INFO: iteration:  1320 - loss:  5.849, 10 iter:  7.1 sec.\n",
            "[SSD] 2022-07-02T07:07:10(UTC) INFO: iteration:  1330 - loss:  6.023, 10 iter:  9.0 sec.\n",
            "[SSD] 2022-07-02T07:07:18(UTC) INFO: iteration:  1340 - loss:  5.934, 10 iter:  7.5 sec.\n",
            "[SSD] 2022-07-02T07:07:25(UTC) INFO: iteration:  1350 - loss:  6.484, 10 iter:  7.3 sec.\n",
            "[SSD] 2022-07-02T07:07:33(UTC) INFO: iteration:  1360 - loss:  6.415, 10 iter:  7.7 sec.\n",
            "[SSD] 2022-07-02T07:07:41(UTC) INFO: iteration:  1370 - loss:  5.814, 10 iter:  7.4 sec.\n",
            "[SSD] 2022-07-02T07:07:49(UTC) INFO: iteration:  1380 - loss:  5.863, 10 iter:  7.2 sec.\n",
            "[SSD] 2022-07-02T07:07:56(UTC) INFO: iteration:  1390 - loss:  5.431, 10 iter:  7.2 sec.\n",
            "[SSD] 2022-07-02T07:08:04(UTC) INFO: iteration:  1400 - loss:  5.700, 10 iter:  7.6 sec.\n",
            "[SSD] 2022-07-02T07:08:12(UTC) INFO: iteration:  1410 - loss:  5.527, 10 iter:  7.2 sec.\n",
            "[SSD] 2022-07-02T07:08:19(UTC) INFO: iteration:  1420 - loss:  5.736, 10 iter:  6.8 sec.\n",
            "[SSD] 2022-07-02T07:08:27(UTC) INFO: iteration:  1430 - loss:  6.189, 10 iter:  7.4 sec.\n",
            "[SSD] 2022-07-02T07:08:28(UTC) INFO: epoch: 8 - train_loss: 1072.162\n",
            "[SSD] 2022-07-02T07:08:28(UTC) INFO: epoch: 8 - 138.5 sec in epoch.\n",
            "[SSD] 2022-07-02T07:08:28(UTC) INFO: epoch: 9/10\n",
            "[SSD] 2022-07-02T07:08:35(UTC) INFO: iteration:  1440 - loss:  5.503, 10 iter:  7.2 sec.\n",
            "[SSD] 2022-07-02T07:08:43(UTC) INFO: iteration:  1450 - loss:  6.029, 10 iter:  7.2 sec.\n",
            "[SSD] 2022-07-02T07:08:50(UTC) INFO: iteration:  1460 - loss:  5.695, 10 iter:  7.1 sec.\n",
            "[SSD] 2022-07-02T07:08:58(UTC) INFO: iteration:  1470 - loss:  5.779, 10 iter:  7.0 sec.\n",
            "[SSD] 2022-07-02T07:09:05(UTC) INFO: iteration:  1480 - loss:  6.101, 10 iter:  7.5 sec.\n",
            "[SSD] 2022-07-02T07:09:13(UTC) INFO: iteration:  1490 - loss:  5.718, 10 iter:  7.7 sec.\n",
            "[SSD] 2022-07-02T07:09:21(UTC) INFO: iteration:  1500 - loss:  5.799, 10 iter:  7.2 sec.\n",
            "[SSD] 2022-07-02T07:09:28(UTC) INFO: iteration:  1510 - loss:  6.113, 10 iter:  7.2 sec.\n",
            "[SSD] 2022-07-02T07:09:36(UTC) INFO: iteration:  1520 - loss:  5.703, 10 iter:  7.7 sec.\n",
            "[SSD] 2022-07-02T07:09:44(UTC) INFO: iteration:  1530 - loss:  5.949, 10 iter:  7.2 sec.\n",
            "[SSD] 2022-07-02T07:09:52(UTC) INFO: iteration:  1540 - loss:  5.513, 10 iter:  7.2 sec.\n",
            "[SSD] 2022-07-02T07:09:59(UTC) INFO: iteration:  1550 - loss:  5.844, 10 iter:  6.8 sec.\n",
            "[SSD] 2022-07-02T07:10:07(UTC) INFO: iteration:  1560 - loss:  5.782, 10 iter:  7.6 sec.\n",
            "[SSD] 2022-07-02T07:10:14(UTC) INFO: iteration:  1570 - loss:  5.778, 10 iter:  7.3 sec.\n",
            "[SSD] 2022-07-02T07:10:22(UTC) INFO: iteration:  1580 - loss:  6.000, 10 iter:  7.4 sec.\n",
            "[SSD] 2022-07-02T07:10:30(UTC) INFO: iteration:  1590 - loss:  5.896, 10 iter:  7.4 sec.\n",
            "[SSD] 2022-07-02T07:10:37(UTC) INFO: iteration:  1600 - loss:  5.780, 10 iter:  7.1 sec.\n",
            "[SSD] 2022-07-02T07:10:44(UTC) INFO: iteration:  1610 - loss:  5.823, 10 iter:  7.0 sec.\n",
            "[SSD] 2022-07-02T07:10:45(UTC) INFO: epoch: 9 - train_loss: 1047.538\n",
            "[SSD] 2022-07-02T07:10:45(UTC) INFO: epoch: 9 - 137.2 sec in epoch.\n",
            "[SSD] 2022-07-02T07:10:45(UTC) INFO: epoch: 10/10\n",
            "[SSD] 2022-07-02T07:10:53(UTC) INFO: iteration:  1620 - loss:  5.937, 10 iter:  7.6 sec.\n",
            "[SSD] 2022-07-02T07:11:01(UTC) INFO: iteration:  1630 - loss:  5.241, 10 iter:  7.7 sec.\n",
            "[SSD] 2022-07-02T07:11:09(UTC) INFO: iteration:  1640 - loss:  6.135, 10 iter:  7.3 sec.\n",
            "[SSD] 2022-07-02T07:11:16(UTC) INFO: iteration:  1650 - loss:  5.878, 10 iter:  7.6 sec.\n",
            "[SSD] 2022-07-02T07:11:24(UTC) INFO: iteration:  1660 - loss:  5.688, 10 iter:  7.6 sec.\n",
            "[SSD] 2022-07-02T07:11:32(UTC) INFO: iteration:  1670 - loss:  6.015, 10 iter:  7.1 sec.\n",
            "[SSD] 2022-07-02T07:11:40(UTC) INFO: iteration:  1680 - loss:  6.117, 10 iter:  7.8 sec.\n",
            "[SSD] 2022-07-02T07:11:48(UTC) INFO: iteration:  1690 - loss:  5.440, 10 iter:  7.2 sec.\n",
            "[SSD] 2022-07-02T07:11:56(UTC) INFO: iteration:  1700 - loss:  5.313, 10 iter:  8.3 sec.\n",
            "[SSD] 2022-07-02T07:12:04(UTC) INFO: iteration:  1710 - loss:  5.559, 10 iter:  7.8 sec.\n",
            "[SSD] 2022-07-02T07:12:12(UTC) INFO: iteration:  1720 - loss:  5.763, 10 iter:  7.2 sec.\n",
            "[SSD] 2022-07-02T07:12:19(UTC) INFO: iteration:  1730 - loss:  5.883, 10 iter:  7.4 sec.\n",
            "[SSD] 2022-07-02T07:12:27(UTC) INFO: iteration:  1740 - loss:  5.758, 10 iter:  7.6 sec.\n",
            "[SSD] 2022-07-02T07:12:35(UTC) INFO: iteration:  1750 - loss:  5.898, 10 iter:  7.5 sec.\n",
            "[SSD] 2022-07-02T07:12:43(UTC) INFO: iteration:  1760 - loss:  5.796, 10 iter:  7.9 sec.\n",
            "[SSD] 2022-07-02T07:12:50(UTC) INFO: iteration:  1770 - loss:  5.485, 10 iter:  6.7 sec.\n",
            "[SSD] 2022-07-02T07:12:57(UTC) INFO: iteration:  1780 - loss:  5.356, 10 iter:  6.8 sec.\n",
            "[SSD] 2022-07-02T07:13:04(UTC) INFO: iteration:  1790 - loss:  5.379, 10 iter:  6.4 sec.\n",
            "[SSD] 2022-07-02T07:13:04(UTC) INFO: epoch: 10 - train_loss: 1017.420\n",
            "[SSD] 2022-07-02T07:13:04(UTC) INFO: epoch: 10 - 139.2 sec in epoch.\n",
            "[SSD] 2022-07-02T07:14:06(UTC) INFO: epoch: 10 - valid_loss: 1019.743\n"
          ]
        }
      ]
    },
    {
      "cell_type": "markdown",
      "source": [
        "モデルとログの取得"
      ],
      "metadata": {
        "id": "k4qtXhiCzKFS"
      }
    },
    {
      "cell_type": "code",
      "source": [
        "!cp weights/models/*.pth ../drive/MyDrive/ssd/weights/\n",
        "!cp logs/ssd.log ../drive/MyDrive/ssd/logs/"
      ],
      "metadata": {
        "id": "LrfGP4u2bAmV"
      },
      "execution_count": null,
      "outputs": []
    },
    {
      "cell_type": "code",
      "source": [
        ""
      ],
      "metadata": {
        "id": "utRems3PdW6P"
      },
      "execution_count": null,
      "outputs": []
    }
  ]
}