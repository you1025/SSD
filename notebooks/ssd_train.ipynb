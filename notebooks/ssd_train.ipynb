{
  "nbformat": 4,
  "nbformat_minor": 0,
  "metadata": {
    "colab": {
      "name": "SSD_train.ipynb",
      "provenance": [],
      "collapsed_sections": [],
      "machine_shape": "hm",
      "authorship_tag": "ABX9TyMKuI2aJknNsEsFT9WR2Kk5",
      "include_colab_link": true
    },
    "kernelspec": {
      "name": "python3",
      "display_name": "Python 3"
    },
    "language_info": {
      "name": "python"
    },
    "accelerator": "GPU",
    "gpuClass": "standard"
  },
  "cells": [
    {
      "cell_type": "markdown",
      "metadata": {
        "id": "view-in-github",
        "colab_type": "text"
      },
      "source": [
        "<a href=\"https://colab.research.google.com/github/you1025/SSD/blob/main/notebooks/ssd_train.ipynb\" target=\"_parent\"><img src=\"https://colab.research.google.com/assets/colab-badge.svg\" alt=\"Open In Colab\"/></a>"
      ]
    },
    {
      "cell_type": "markdown",
      "source": [
        "CPU の確認"
      ],
      "metadata": {
        "id": "aNmfcB3f3SYt"
      }
    },
    {
      "cell_type": "code",
      "source": [
        "!cat /proc/cpuinfo"
      ],
      "metadata": {
        "id": "K3uT_WGP3QLS",
        "outputId": "90ebae51-f685-4ef4-fe9e-e6e5fce6ed1c",
        "colab": {
          "base_uri": "https://localhost:8080/"
        }
      },
      "execution_count": 1,
      "outputs": [
        {
          "output_type": "stream",
          "name": "stdout",
          "text": [
            "processor\t: 0\n",
            "vendor_id\t: GenuineIntel\n",
            "cpu family\t: 6\n",
            "model\t\t: 85\n",
            "model name\t: Intel(R) Xeon(R) CPU @ 2.00GHz\n",
            "stepping\t: 3\n",
            "microcode\t: 0x1\n",
            "cpu MHz\t\t: 2000.168\n",
            "cache size\t: 39424 KB\n",
            "physical id\t: 0\n",
            "siblings\t: 8\n",
            "core id\t\t: 0\n",
            "cpu cores\t: 4\n",
            "apicid\t\t: 0\n",
            "initial apicid\t: 0\n",
            "fpu\t\t: yes\n",
            "fpu_exception\t: yes\n",
            "cpuid level\t: 13\n",
            "wp\t\t: yes\n",
            "flags\t\t: fpu vme de pse tsc msr pae mce cx8 apic sep mtrr pge mca cmov pat pse36 clflush mmx fxsr sse sse2 ss ht syscall nx pdpe1gb rdtscp lm constant_tsc rep_good nopl xtopology nonstop_tsc cpuid tsc_known_freq pni pclmulqdq ssse3 fma cx16 pcid sse4_1 sse4_2 x2apic movbe popcnt aes xsave avx f16c rdrand hypervisor lahf_lm abm 3dnowprefetch invpcid_single ssbd ibrs ibpb stibp fsgsbase tsc_adjust bmi1 hle avx2 smep bmi2 erms invpcid rtm mpx avx512f avx512dq rdseed adx smap clflushopt clwb avx512cd avx512bw avx512vl xsaveopt xsavec xgetbv1 xsaves arat md_clear arch_capabilities\n",
            "bugs\t\t: cpu_meltdown spectre_v1 spectre_v2 spec_store_bypass l1tf mds swapgs taa\n",
            "bogomips\t: 4000.33\n",
            "clflush size\t: 64\n",
            "cache_alignment\t: 64\n",
            "address sizes\t: 46 bits physical, 48 bits virtual\n",
            "power management:\n",
            "\n",
            "processor\t: 1\n",
            "vendor_id\t: GenuineIntel\n",
            "cpu family\t: 6\n",
            "model\t\t: 85\n",
            "model name\t: Intel(R) Xeon(R) CPU @ 2.00GHz\n",
            "stepping\t: 3\n",
            "microcode\t: 0x1\n",
            "cpu MHz\t\t: 2000.168\n",
            "cache size\t: 39424 KB\n",
            "physical id\t: 0\n",
            "siblings\t: 8\n",
            "core id\t\t: 1\n",
            "cpu cores\t: 4\n",
            "apicid\t\t: 2\n",
            "initial apicid\t: 2\n",
            "fpu\t\t: yes\n",
            "fpu_exception\t: yes\n",
            "cpuid level\t: 13\n",
            "wp\t\t: yes\n",
            "flags\t\t: fpu vme de pse tsc msr pae mce cx8 apic sep mtrr pge mca cmov pat pse36 clflush mmx fxsr sse sse2 ss ht syscall nx pdpe1gb rdtscp lm constant_tsc rep_good nopl xtopology nonstop_tsc cpuid tsc_known_freq pni pclmulqdq ssse3 fma cx16 pcid sse4_1 sse4_2 x2apic movbe popcnt aes xsave avx f16c rdrand hypervisor lahf_lm abm 3dnowprefetch invpcid_single ssbd ibrs ibpb stibp fsgsbase tsc_adjust bmi1 hle avx2 smep bmi2 erms invpcid rtm mpx avx512f avx512dq rdseed adx smap clflushopt clwb avx512cd avx512bw avx512vl xsaveopt xsavec xgetbv1 xsaves arat md_clear arch_capabilities\n",
            "bugs\t\t: cpu_meltdown spectre_v1 spectre_v2 spec_store_bypass l1tf mds swapgs taa\n",
            "bogomips\t: 4000.33\n",
            "clflush size\t: 64\n",
            "cache_alignment\t: 64\n",
            "address sizes\t: 46 bits physical, 48 bits virtual\n",
            "power management:\n",
            "\n",
            "processor\t: 2\n",
            "vendor_id\t: GenuineIntel\n",
            "cpu family\t: 6\n",
            "model\t\t: 85\n",
            "model name\t: Intel(R) Xeon(R) CPU @ 2.00GHz\n",
            "stepping\t: 3\n",
            "microcode\t: 0x1\n",
            "cpu MHz\t\t: 2000.168\n",
            "cache size\t: 39424 KB\n",
            "physical id\t: 0\n",
            "siblings\t: 8\n",
            "core id\t\t: 2\n",
            "cpu cores\t: 4\n",
            "apicid\t\t: 4\n",
            "initial apicid\t: 4\n",
            "fpu\t\t: yes\n",
            "fpu_exception\t: yes\n",
            "cpuid level\t: 13\n",
            "wp\t\t: yes\n",
            "flags\t\t: fpu vme de pse tsc msr pae mce cx8 apic sep mtrr pge mca cmov pat pse36 clflush mmx fxsr sse sse2 ss ht syscall nx pdpe1gb rdtscp lm constant_tsc rep_good nopl xtopology nonstop_tsc cpuid tsc_known_freq pni pclmulqdq ssse3 fma cx16 pcid sse4_1 sse4_2 x2apic movbe popcnt aes xsave avx f16c rdrand hypervisor lahf_lm abm 3dnowprefetch invpcid_single ssbd ibrs ibpb stibp fsgsbase tsc_adjust bmi1 hle avx2 smep bmi2 erms invpcid rtm mpx avx512f avx512dq rdseed adx smap clflushopt clwb avx512cd avx512bw avx512vl xsaveopt xsavec xgetbv1 xsaves arat md_clear arch_capabilities\n",
            "bugs\t\t: cpu_meltdown spectre_v1 spectre_v2 spec_store_bypass l1tf mds swapgs taa\n",
            "bogomips\t: 4000.33\n",
            "clflush size\t: 64\n",
            "cache_alignment\t: 64\n",
            "address sizes\t: 46 bits physical, 48 bits virtual\n",
            "power management:\n",
            "\n",
            "processor\t: 3\n",
            "vendor_id\t: GenuineIntel\n",
            "cpu family\t: 6\n",
            "model\t\t: 85\n",
            "model name\t: Intel(R) Xeon(R) CPU @ 2.00GHz\n",
            "stepping\t: 3\n",
            "microcode\t: 0x1\n",
            "cpu MHz\t\t: 2000.168\n",
            "cache size\t: 39424 KB\n",
            "physical id\t: 0\n",
            "siblings\t: 8\n",
            "core id\t\t: 3\n",
            "cpu cores\t: 4\n",
            "apicid\t\t: 6\n",
            "initial apicid\t: 6\n",
            "fpu\t\t: yes\n",
            "fpu_exception\t: yes\n",
            "cpuid level\t: 13\n",
            "wp\t\t: yes\n",
            "flags\t\t: fpu vme de pse tsc msr pae mce cx8 apic sep mtrr pge mca cmov pat pse36 clflush mmx fxsr sse sse2 ss ht syscall nx pdpe1gb rdtscp lm constant_tsc rep_good nopl xtopology nonstop_tsc cpuid tsc_known_freq pni pclmulqdq ssse3 fma cx16 pcid sse4_1 sse4_2 x2apic movbe popcnt aes xsave avx f16c rdrand hypervisor lahf_lm abm 3dnowprefetch invpcid_single ssbd ibrs ibpb stibp fsgsbase tsc_adjust bmi1 hle avx2 smep bmi2 erms invpcid rtm mpx avx512f avx512dq rdseed adx smap clflushopt clwb avx512cd avx512bw avx512vl xsaveopt xsavec xgetbv1 xsaves arat md_clear arch_capabilities\n",
            "bugs\t\t: cpu_meltdown spectre_v1 spectre_v2 spec_store_bypass l1tf mds swapgs taa\n",
            "bogomips\t: 4000.33\n",
            "clflush size\t: 64\n",
            "cache_alignment\t: 64\n",
            "address sizes\t: 46 bits physical, 48 bits virtual\n",
            "power management:\n",
            "\n",
            "processor\t: 4\n",
            "vendor_id\t: GenuineIntel\n",
            "cpu family\t: 6\n",
            "model\t\t: 85\n",
            "model name\t: Intel(R) Xeon(R) CPU @ 2.00GHz\n",
            "stepping\t: 3\n",
            "microcode\t: 0x1\n",
            "cpu MHz\t\t: 2000.168\n",
            "cache size\t: 39424 KB\n",
            "physical id\t: 0\n",
            "siblings\t: 8\n",
            "core id\t\t: 0\n",
            "cpu cores\t: 4\n",
            "apicid\t\t: 1\n",
            "initial apicid\t: 1\n",
            "fpu\t\t: yes\n",
            "fpu_exception\t: yes\n",
            "cpuid level\t: 13\n",
            "wp\t\t: yes\n",
            "flags\t\t: fpu vme de pse tsc msr pae mce cx8 apic sep mtrr pge mca cmov pat pse36 clflush mmx fxsr sse sse2 ss ht syscall nx pdpe1gb rdtscp lm constant_tsc rep_good nopl xtopology nonstop_tsc cpuid tsc_known_freq pni pclmulqdq ssse3 fma cx16 pcid sse4_1 sse4_2 x2apic movbe popcnt aes xsave avx f16c rdrand hypervisor lahf_lm abm 3dnowprefetch invpcid_single ssbd ibrs ibpb stibp fsgsbase tsc_adjust bmi1 hle avx2 smep bmi2 erms invpcid rtm mpx avx512f avx512dq rdseed adx smap clflushopt clwb avx512cd avx512bw avx512vl xsaveopt xsavec xgetbv1 xsaves arat md_clear arch_capabilities\n",
            "bugs\t\t: cpu_meltdown spectre_v1 spectre_v2 spec_store_bypass l1tf mds swapgs taa\n",
            "bogomips\t: 4000.33\n",
            "clflush size\t: 64\n",
            "cache_alignment\t: 64\n",
            "address sizes\t: 46 bits physical, 48 bits virtual\n",
            "power management:\n",
            "\n",
            "processor\t: 5\n",
            "vendor_id\t: GenuineIntel\n",
            "cpu family\t: 6\n",
            "model\t\t: 85\n",
            "model name\t: Intel(R) Xeon(R) CPU @ 2.00GHz\n",
            "stepping\t: 3\n",
            "microcode\t: 0x1\n",
            "cpu MHz\t\t: 2000.168\n",
            "cache size\t: 39424 KB\n",
            "physical id\t: 0\n",
            "siblings\t: 8\n",
            "core id\t\t: 1\n",
            "cpu cores\t: 4\n",
            "apicid\t\t: 3\n",
            "initial apicid\t: 3\n",
            "fpu\t\t: yes\n",
            "fpu_exception\t: yes\n",
            "cpuid level\t: 13\n",
            "wp\t\t: yes\n",
            "flags\t\t: fpu vme de pse tsc msr pae mce cx8 apic sep mtrr pge mca cmov pat pse36 clflush mmx fxsr sse sse2 ss ht syscall nx pdpe1gb rdtscp lm constant_tsc rep_good nopl xtopology nonstop_tsc cpuid tsc_known_freq pni pclmulqdq ssse3 fma cx16 pcid sse4_1 sse4_2 x2apic movbe popcnt aes xsave avx f16c rdrand hypervisor lahf_lm abm 3dnowprefetch invpcid_single ssbd ibrs ibpb stibp fsgsbase tsc_adjust bmi1 hle avx2 smep bmi2 erms invpcid rtm mpx avx512f avx512dq rdseed adx smap clflushopt clwb avx512cd avx512bw avx512vl xsaveopt xsavec xgetbv1 xsaves arat md_clear arch_capabilities\n",
            "bugs\t\t: cpu_meltdown spectre_v1 spectre_v2 spec_store_bypass l1tf mds swapgs taa\n",
            "bogomips\t: 4000.33\n",
            "clflush size\t: 64\n",
            "cache_alignment\t: 64\n",
            "address sizes\t: 46 bits physical, 48 bits virtual\n",
            "power management:\n",
            "\n",
            "processor\t: 6\n",
            "vendor_id\t: GenuineIntel\n",
            "cpu family\t: 6\n",
            "model\t\t: 85\n",
            "model name\t: Intel(R) Xeon(R) CPU @ 2.00GHz\n",
            "stepping\t: 3\n",
            "microcode\t: 0x1\n",
            "cpu MHz\t\t: 2000.168\n",
            "cache size\t: 39424 KB\n",
            "physical id\t: 0\n",
            "siblings\t: 8\n",
            "core id\t\t: 2\n",
            "cpu cores\t: 4\n",
            "apicid\t\t: 5\n",
            "initial apicid\t: 5\n",
            "fpu\t\t: yes\n",
            "fpu_exception\t: yes\n",
            "cpuid level\t: 13\n",
            "wp\t\t: yes\n",
            "flags\t\t: fpu vme de pse tsc msr pae mce cx8 apic sep mtrr pge mca cmov pat pse36 clflush mmx fxsr sse sse2 ss ht syscall nx pdpe1gb rdtscp lm constant_tsc rep_good nopl xtopology nonstop_tsc cpuid tsc_known_freq pni pclmulqdq ssse3 fma cx16 pcid sse4_1 sse4_2 x2apic movbe popcnt aes xsave avx f16c rdrand hypervisor lahf_lm abm 3dnowprefetch invpcid_single ssbd ibrs ibpb stibp fsgsbase tsc_adjust bmi1 hle avx2 smep bmi2 erms invpcid rtm mpx avx512f avx512dq rdseed adx smap clflushopt clwb avx512cd avx512bw avx512vl xsaveopt xsavec xgetbv1 xsaves arat md_clear arch_capabilities\n",
            "bugs\t\t: cpu_meltdown spectre_v1 spectre_v2 spec_store_bypass l1tf mds swapgs taa\n",
            "bogomips\t: 4000.33\n",
            "clflush size\t: 64\n",
            "cache_alignment\t: 64\n",
            "address sizes\t: 46 bits physical, 48 bits virtual\n",
            "power management:\n",
            "\n",
            "processor\t: 7\n",
            "vendor_id\t: GenuineIntel\n",
            "cpu family\t: 6\n",
            "model\t\t: 85\n",
            "model name\t: Intel(R) Xeon(R) CPU @ 2.00GHz\n",
            "stepping\t: 3\n",
            "microcode\t: 0x1\n",
            "cpu MHz\t\t: 2000.168\n",
            "cache size\t: 39424 KB\n",
            "physical id\t: 0\n",
            "siblings\t: 8\n",
            "core id\t\t: 3\n",
            "cpu cores\t: 4\n",
            "apicid\t\t: 7\n",
            "initial apicid\t: 7\n",
            "fpu\t\t: yes\n",
            "fpu_exception\t: yes\n",
            "cpuid level\t: 13\n",
            "wp\t\t: yes\n",
            "flags\t\t: fpu vme de pse tsc msr pae mce cx8 apic sep mtrr pge mca cmov pat pse36 clflush mmx fxsr sse sse2 ss ht syscall nx pdpe1gb rdtscp lm constant_tsc rep_good nopl xtopology nonstop_tsc cpuid tsc_known_freq pni pclmulqdq ssse3 fma cx16 pcid sse4_1 sse4_2 x2apic movbe popcnt aes xsave avx f16c rdrand hypervisor lahf_lm abm 3dnowprefetch invpcid_single ssbd ibrs ibpb stibp fsgsbase tsc_adjust bmi1 hle avx2 smep bmi2 erms invpcid rtm mpx avx512f avx512dq rdseed adx smap clflushopt clwb avx512cd avx512bw avx512vl xsaveopt xsavec xgetbv1 xsaves arat md_clear arch_capabilities\n",
            "bugs\t\t: cpu_meltdown spectre_v1 spectre_v2 spec_store_bypass l1tf mds swapgs taa\n",
            "bogomips\t: 4000.33\n",
            "clflush size\t: 64\n",
            "cache_alignment\t: 64\n",
            "address sizes\t: 46 bits physical, 48 bits virtual\n",
            "power management:\n",
            "\n"
          ]
        }
      ]
    },
    {
      "cell_type": "markdown",
      "source": [
        "GPU の確認"
      ],
      "metadata": {
        "id": "vg_CEUvMj5sp"
      }
    },
    {
      "cell_type": "code",
      "source": [
        "!nvidia-smi"
      ],
      "metadata": {
        "colab": {
          "base_uri": "https://localhost:8080/"
        },
        "id": "sFfr7bxUjhsr",
        "outputId": "bb5acf6b-031e-4584-bfc1-9f4e572eab2b"
      },
      "execution_count": 2,
      "outputs": [
        {
          "output_type": "stream",
          "name": "stdout",
          "text": [
            "Tue Jul 12 01:23:17 2022       \n",
            "+-----------------------------------------------------------------------------+\n",
            "| NVIDIA-SMI 460.32.03    Driver Version: 460.32.03    CUDA Version: 11.2     |\n",
            "|-------------------------------+----------------------+----------------------+\n",
            "| GPU  Name        Persistence-M| Bus-Id        Disp.A | Volatile Uncorr. ECC |\n",
            "| Fan  Temp  Perf  Pwr:Usage/Cap|         Memory-Usage | GPU-Util  Compute M. |\n",
            "|                               |                      |               MIG M. |\n",
            "|===============================+======================+======================|\n",
            "|   0  Tesla P100-PCIE...  Off  | 00000000:00:04.0 Off |                    0 |\n",
            "| N/A   34C    P0    25W / 250W |      0MiB / 16280MiB |      0%      Default |\n",
            "|                               |                      |                  N/A |\n",
            "+-------------------------------+----------------------+----------------------+\n",
            "                                                                               \n",
            "+-----------------------------------------------------------------------------+\n",
            "| Processes:                                                                  |\n",
            "|  GPU   GI   CI        PID   Type   Process name                  GPU Memory |\n",
            "|        ID   ID                                                   Usage      |\n",
            "|=============================================================================|\n",
            "|  No running processes found                                                 |\n",
            "+-----------------------------------------------------------------------------+\n"
          ]
        }
      ]
    },
    {
      "cell_type": "markdown",
      "source": [
        "Google Drive の接続"
      ],
      "metadata": {
        "id": "3V-7wZ_P7Rv4"
      }
    },
    {
      "cell_type": "code",
      "source": [
        "from google.colab import drive\n",
        "drive.mount(\"/content/drive\")"
      ],
      "metadata": {
        "colab": {
          "base_uri": "https://localhost:8080/"
        },
        "id": "091iC_az7SDI",
        "outputId": "5d28be62-b5f5-4df9-dcb0-3435d2610d54"
      },
      "execution_count": 3,
      "outputs": [
        {
          "output_type": "stream",
          "name": "stdout",
          "text": [
            "Mounted at /content/drive\n"
          ]
        }
      ]
    },
    {
      "cell_type": "markdown",
      "source": [
        "ソースコードのダウンロード\n",
        "\n",
        "**モデルとログの出力先を google drive に変更する事！**"
      ],
      "metadata": {
        "id": "8fFvgRrZahrl"
      }
    },
    {
      "cell_type": "code",
      "source": [
        "!git clone https://github.com/you1025/SSD.git"
      ],
      "metadata": {
        "colab": {
          "base_uri": "https://localhost:8080/"
        },
        "id": "Y7l3xGBcaRTv",
        "outputId": "1dc43e58-c15b-4f18-a465-344bac65f1b7"
      },
      "execution_count": 4,
      "outputs": [
        {
          "output_type": "stream",
          "name": "stdout",
          "text": [
            "Cloning into 'SSD'...\n",
            "remote: Enumerating objects: 193, done.\u001b[K\n",
            "remote: Counting objects: 100% (193/193), done.\u001b[K\n",
            "remote: Compressing objects: 100% (137/137), done.\u001b[K\n",
            "remote: Total 193 (delta 110), reused 122 (delta 47), pack-reused 0\u001b[K\n",
            "Receiving objects: 100% (193/193), 133.24 KiB | 9.52 MiB/s, done.\n",
            "Resolving deltas: 100% (110/110), done.\n"
          ]
        }
      ]
    },
    {
      "cell_type": "markdown",
      "source": [
        "データの取得"
      ],
      "metadata": {
        "id": "y3Sdwm93ZY6N"
      }
    },
    {
      "cell_type": "code",
      "execution_count": 5,
      "metadata": {
        "colab": {
          "base_uri": "https://localhost:8080/"
        },
        "id": "Dun5CEjCXuNA",
        "outputId": "05eed37d-763c-4131-8529-7128ac67df60"
      },
      "outputs": [
        {
          "output_type": "stream",
          "name": "stdout",
          "text": [
            "Copying gs://shimajiro-ssd/VOCtrainval_11-May-2012.tar...\n",
            "- [1 files][  1.9 GiB/  1.9 GiB]   84.3 MiB/s                                   \n",
            "Operation completed over 1 objects/1.9 GiB.                                      \n",
            "Copying gs://shimajiro-ssd/vgg16_reducedfc.pth...\n",
            "/ [1 files][ 78.1 MiB/ 78.1 MiB]                                                \n",
            "Operation completed over 1 objects/78.1 MiB.                                     \n"
          ]
        }
      ],
      "source": [
        "# 認証\n",
        "from google.colab import auth\n",
        "auth.authenticate_user()\n",
        "\n",
        "# VOC データを取得\n",
        "!gsutil cp gs://shimajiro-ssd/VOCtrainval_11-May-2012.tar .\n",
        "!tar xf VOCtrainval_11-May-2012.tar -C SSD/data/\n",
        "\n",
        "# 学習済み VGG モデルを取得\n",
        "!gsutil cp gs://shimajiro-ssd/vgg16_reducedfc.pth SSD/weights/vgg/"
      ]
    },
    {
      "cell_type": "markdown",
      "source": [
        "学習の実行\n",
        "\n",
        "確認: **モデルとログの出力先を google drive に変更する事！**"
      ],
      "metadata": {
        "id": "XpF3lt_Lp7k_"
      }
    },
    {
      "cell_type": "code",
      "source": [
        "%cd SSD\n",
        "%run ssd_train.py"
      ],
      "metadata": {
        "colab": {
          "base_uri": "https://localhost:8080/",
          "height": 1000
        },
        "id": "imvG000BTUcI",
        "outputId": "2869836e-e603-498d-cf35-13d3a17556d3"
      },
      "execution_count": 6,
      "outputs": [
        {
          "output_type": "stream",
          "name": "stdout",
          "text": [
            "/content/SSD\n",
            "[train] 2022-07-12T01:25:18(UTC) INFO: device: cuda:0\n",
            "[train] 2022-07-12T01:25:18(UTC) INFO: epoch: 1/300\n",
            "[train] 2022-07-12T01:25:37(UTC) INFO: iteration:    10 - loss: 16.222, 10 iter: 18.3 sec.\n",
            "[train] 2022-07-12T01:25:45(UTC) INFO: iteration:    20 - loss: 11.633, 10 iter:  7.6 sec.\n",
            "[train] 2022-07-12T01:25:53(UTC) INFO: iteration:    30 - loss: 11.705, 10 iter:  7.7 sec.\n",
            "[train] 2022-07-12T01:26:02(UTC) INFO: iteration:    40 - loss:  9.272, 10 iter:  7.7 sec.\n",
            "[train] 2022-07-12T01:26:10(UTC) INFO: iteration:    50 - loss:  8.839, 10 iter:  7.7 sec.\n",
            "[train] 2022-07-12T01:26:18(UTC) INFO: iteration:    60 - loss: 10.334, 10 iter:  7.7 sec.\n",
            "[train] 2022-07-12T01:26:26(UTC) INFO: iteration:    70 - loss:  8.498, 10 iter:  7.7 sec.\n",
            "[train] 2022-07-12T01:26:34(UTC) INFO: iteration:    80 - loss:  8.150, 10 iter:  7.7 sec.\n",
            "[train] 2022-07-12T01:26:43(UTC) INFO: iteration:    90 - loss:  8.099, 10 iter:  7.7 sec.\n",
            "[train] 2022-07-12T01:26:51(UTC) INFO: iteration:   100 - loss:  8.441, 10 iter:  7.7 sec.\n",
            "[train] 2022-07-12T01:26:59(UTC) INFO: iteration:   110 - loss:  9.126, 10 iter:  7.7 sec.\n",
            "[train] 2022-07-12T01:27:08(UTC) INFO: iteration:   120 - loss:  8.184, 10 iter:  8.9 sec.\n",
            "[train] 2022-07-12T01:27:08(UTC) INFO: epoch: 1 - train_loss: 1264.357\n",
            "[train] 2022-07-12T01:27:08(UTC) INFO: epoch: 1 - 109.7 sec in epoch.\n",
            "[train] 2022-07-12T01:27:08(UTC) INFO: epoch: 2/300\n",
            "[train] 2022-07-12T01:27:19(UTC) INFO: iteration:   130 - loss: 10.336, 10 iter: 10.2 sec.\n",
            "[train] 2022-07-12T01:27:27(UTC) INFO: iteration:   140 - loss:  8.639, 10 iter:  7.7 sec.\n",
            "[train] 2022-07-12T01:27:35(UTC) INFO: iteration:   150 - loss:  8.459, 10 iter:  7.7 sec.\n",
            "[train] 2022-07-12T01:27:43(UTC) INFO: iteration:   160 - loss:  8.614, 10 iter:  7.7 sec.\n",
            "[train] 2022-07-12T01:27:51(UTC) INFO: iteration:   170 - loss:  8.779, 10 iter:  7.7 sec.\n",
            "[train] 2022-07-12T01:28:00(UTC) INFO: iteration:   180 - loss:  8.494, 10 iter:  7.7 sec.\n",
            "[train] 2022-07-12T01:28:08(UTC) INFO: iteration:   190 - loss:  8.785, 10 iter:  7.7 sec.\n",
            "[train] 2022-07-12T01:28:16(UTC) INFO: iteration:   200 - loss:  9.104, 10 iter:  7.7 sec.\n",
            "[train] 2022-07-12T01:28:24(UTC) INFO: iteration:   210 - loss:  9.244, 10 iter:  7.7 sec.\n",
            "[train] 2022-07-12T01:28:32(UTC) INFO: iteration:   220 - loss:  9.477, 10 iter:  7.7 sec.\n",
            "[train] 2022-07-12T01:28:41(UTC) INFO: iteration:   230 - loss:  8.541, 10 iter:  7.7 sec.\n",
            "[train] 2022-07-12T01:28:48(UTC) INFO: iteration:   240 - loss:  9.030, 10 iter:  7.4 sec.\n",
            "[train] 2022-07-12T01:28:48(UTC) INFO: epoch: 2 - train_loss: 1037.847\n",
            "[train] 2022-07-12T01:28:48(UTC) INFO: epoch: 2 - 100.2 sec in epoch.\n",
            "[train] 2022-07-12T01:28:48(UTC) INFO: epoch: 3/300\n",
            "[train] 2022-07-12T01:28:59(UTC) INFO: iteration:   250 - loss:  8.046, 10 iter: 10.8 sec.\n",
            "[train] 2022-07-12T01:29:08(UTC) INFO: iteration:   260 - loss:  8.409, 10 iter:  7.6 sec.\n",
            "[train] 2022-07-12T01:29:16(UTC) INFO: iteration:   270 - loss:  9.206, 10 iter:  7.7 sec.\n",
            "[train] 2022-07-12T01:29:24(UTC) INFO: iteration:   280 - loss:  8.139, 10 iter:  7.7 sec.\n",
            "[train] 2022-07-12T01:29:32(UTC) INFO: iteration:   290 - loss:  7.925, 10 iter:  7.7 sec.\n",
            "[train] 2022-07-12T01:29:40(UTC) INFO: iteration:   300 - loss:  9.472, 10 iter:  7.7 sec.\n",
            "[train] 2022-07-12T01:29:49(UTC) INFO: iteration:   310 - loss:  7.732, 10 iter:  7.7 sec.\n",
            "[train] 2022-07-12T01:29:57(UTC) INFO: iteration:   320 - loss:  8.167, 10 iter:  7.7 sec.\n",
            "[train] 2022-07-12T01:30:05(UTC) INFO: iteration:   330 - loss:  7.981, 10 iter:  7.7 sec.\n",
            "[train] 2022-07-12T01:30:13(UTC) INFO: iteration:   340 - loss:  7.264, 10 iter:  7.7 sec.\n",
            "[train] 2022-07-12T01:30:22(UTC) INFO: iteration:   350 - loss:  8.739, 10 iter:  7.7 sec.\n",
            "[train] 2022-07-12T01:30:29(UTC) INFO: iteration:   360 - loss:  8.233, 10 iter:  7.4 sec.\n",
            "[train] 2022-07-12T01:30:29(UTC) INFO: epoch: 3 - train_loss: 969.077\n",
            "[train] 2022-07-12T01:30:29(UTC) INFO: epoch: 3 - 100.9 sec in epoch.\n",
            "[train] 2022-07-12T01:30:29(UTC) INFO: epoch: 4/300\n",
            "[train] 2022-07-12T01:30:40(UTC) INFO: iteration:   370 - loss:  7.888, 10 iter: 10.3 sec.\n",
            "[train] 2022-07-12T01:30:48(UTC) INFO: iteration:   380 - loss:  7.643, 10 iter:  7.7 sec.\n",
            "[train] 2022-07-12T01:30:56(UTC) INFO: iteration:   390 - loss:  6.972, 10 iter:  7.7 sec.\n",
            "[train] 2022-07-12T01:31:05(UTC) INFO: iteration:   400 - loss:  7.172, 10 iter:  7.7 sec.\n",
            "[train] 2022-07-12T01:31:13(UTC) INFO: iteration:   410 - loss:  7.031, 10 iter:  7.7 sec.\n",
            "[train] 2022-07-12T01:31:21(UTC) INFO: iteration:   420 - loss:  7.350, 10 iter:  7.7 sec.\n",
            "[train] 2022-07-12T01:31:29(UTC) INFO: iteration:   430 - loss:  7.130, 10 iter:  7.8 sec.\n",
            "[train] 2022-07-12T01:31:37(UTC) INFO: iteration:   440 - loss:  7.339, 10 iter:  7.7 sec.\n",
            "[train] 2022-07-12T01:31:46(UTC) INFO: iteration:   450 - loss:  6.860, 10 iter:  7.7 sec.\n"
          ]
        },
        {
          "output_type": "stream",
          "name": "stderr",
          "text": [
            "Exception ignored in: <function _MultiProcessingDataLoaderIter.__del__ at 0x7fad35426c20>\n",
            "Traceback (most recent call last):\n",
            "  File \"/usr/local/lib/python3.7/dist-packages/torch/utils/data/dataloader.py\", line 1358, in __del__\n",
            "    self._shutdown_workers()\n",
            "  File \"/usr/local/lib/python3.7/dist-packages/torch/utils/data/dataloader.py\", line 1322, in _shutdown_workers\n",
            "    w.join(timeout=_utils.MP_STATUS_CHECK_INTERVAL)\n",
            "  File \"/usr/lib/python3.7/multiprocessing/process.py\", line 140, in join\n",
            "    res = self._popen.wait(timeout)\n",
            "  File \"/usr/lib/python3.7/multiprocessing/popen_fork.py\", line 45, in wait\n",
            "    if not wait([self.sentinel], timeout):\n",
            "  File \"/usr/lib/python3.7/multiprocessing/connection.py\", line 921, in wait\n",
            "    ready = selector.select(timeout)\n",
            "  File \"/usr/lib/python3.7/selectors.py\", line 415, in select\n",
            "    fd_event_list = self._selector.poll(timeout)\n",
            "KeyboardInterrupt: \n"
          ]
        },
        {
          "output_type": "error",
          "ename": "KeyboardInterrupt",
          "evalue": "ignored",
          "traceback": [
            "\u001b[0;31m---------------------------------------------------------------------------\u001b[0m",
            "\u001b[0;31mKeyboardInterrupt\u001b[0m                         Traceback (most recent call last)",
            "\u001b[0;32m/content/SSD/ssd_train.py\u001b[0m in \u001b[0;36m<module>\u001b[0;34m()\u001b[0m\n\u001b[1;32m    117\u001b[0m     \u001b[0;31m# 学習の実行\u001b[0m\u001b[0;34m\u001b[0m\u001b[0;34m\u001b[0m\u001b[0;34m\u001b[0m\u001b[0m\n\u001b[1;32m    118\u001b[0m     \u001b[0mtrain_config\u001b[0m \u001b[0;34m=\u001b[0m \u001b[0mconfig\u001b[0m\u001b[0;34m[\u001b[0m\u001b[0;34m\"train\"\u001b[0m\u001b[0;34m]\u001b[0m\u001b[0;34m\u001b[0m\u001b[0;34m\u001b[0m\u001b[0m\n\u001b[0;32m--> 119\u001b[0;31m     \u001b[0mtrain\u001b[0m\u001b[0;34m(\u001b[0m\u001b[0mnet\u001b[0m\u001b[0;34m,\u001b[0m \u001b[0mtrain_loader\u001b[0m\u001b[0;34m,\u001b[0m \u001b[0mvalid_loader\u001b[0m\u001b[0;34m,\u001b[0m \u001b[0mcriterion\u001b[0m\u001b[0;34m,\u001b[0m \u001b[0moptimizer\u001b[0m\u001b[0;34m,\u001b[0m \u001b[0mscheduler\u001b[0m\u001b[0;34m,\u001b[0m \u001b[0mdevice\u001b[0m\u001b[0;34m,\u001b[0m \u001b[0mtrain_config\u001b[0m\u001b[0;34m)\u001b[0m\u001b[0;34m\u001b[0m\u001b[0;34m\u001b[0m\u001b[0m\n\u001b[0m",
            "\u001b[0;32m/content/SSD/src/train.py\u001b[0m in \u001b[0;36mtrain\u001b[0;34m(net, train_loader, valid_loader, criterion, optimizer, scheduler, device, config)\u001b[0m\n\u001b[1;32m     58\u001b[0m                 \u001b[0miter_start_time\u001b[0m \u001b[0;34m=\u001b[0m \u001b[0mtime\u001b[0m\u001b[0;34m(\u001b[0m\u001b[0;34m)\u001b[0m\u001b[0;34m\u001b[0m\u001b[0;34m\u001b[0m\u001b[0m\n\u001b[1;32m     59\u001b[0m \u001b[0;34m\u001b[0m\u001b[0m\n\u001b[0;32m---> 60\u001b[0;31m             \u001b[0mepoch_train_loss\u001b[0m \u001b[0;34m+=\u001b[0m \u001b[0mloss\u001b[0m\u001b[0;34m.\u001b[0m\u001b[0mitem\u001b[0m\u001b[0;34m(\u001b[0m\u001b[0;34m)\u001b[0m\u001b[0;34m\u001b[0m\u001b[0;34m\u001b[0m\u001b[0m\n\u001b[0m\u001b[1;32m     61\u001b[0m             \u001b[0miteration\u001b[0m \u001b[0;34m+=\u001b[0m \u001b[0;36m1\u001b[0m\u001b[0;34m\u001b[0m\u001b[0;34m\u001b[0m\u001b[0m\n\u001b[1;32m     62\u001b[0m \u001b[0;34m\u001b[0m\u001b[0m\n",
            "\u001b[0;31mKeyboardInterrupt\u001b[0m: "
          ]
        }
      ]
    },
    {
      "cell_type": "markdown",
      "source": [
        "モデルとログの取得"
      ],
      "metadata": {
        "id": "k4qtXhiCzKFS"
      }
    },
    {
      "cell_type": "code",
      "source": [
        "!cp weights/models/*.pth ../drive/MyDrive/ssd/weights/\n",
        "!cp logs/ssd.log ../drive/MyDrive/ssd/logs/"
      ],
      "metadata": {
        "id": "LrfGP4u2bAmV"
      },
      "execution_count": null,
      "outputs": []
    },
    {
      "cell_type": "code",
      "source": [
        ""
      ],
      "metadata": {
        "id": "utRems3PdW6P"
      },
      "execution_count": null,
      "outputs": []
    }
  ]
}